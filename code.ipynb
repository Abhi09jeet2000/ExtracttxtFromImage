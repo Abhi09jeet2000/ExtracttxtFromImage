{
 "cells": [
  {
   "cell_type": "code",
   "execution_count": 1,
   "metadata": {},
   "outputs": [
    {
     "name": "stdout",
     "output_type": "stream",
     "text": [
      "Collecting pytesseract\n",
      "  Downloading https://files.pythonhosted.org/packages/ba/19/c4c09496657920a859aca0e95db41da5fa6299d1693d7e7ab8ac96677198/pytesseract-0.3.5.tar.gz\n",
      "Requirement already satisfied: Pillow in c:\\users\\hp\\anaconda3\\lib\\site-packages (from pytesseract) (6.2.0)\n",
      "Building wheels for collected packages: pytesseract\n",
      "  Building wheel for pytesseract (setup.py): started\n",
      "  Building wheel for pytesseract (setup.py): finished with status 'done'\n",
      "  Created wheel for pytesseract: filename=pytesseract-0.3.5-py2.py3-none-any.whl size=13410 sha256=028c945a36984d199051462c54181d3632f16edb9f9379f2631898a36001ac82\n",
      "  Stored in directory: C:\\Users\\hp\\AppData\\Local\\pip\\Cache\\wheels\\4c\\57\\f5\\4e60154cc0cfb584373ec7922766e67d00f34879c21ed73f14\n",
      "Successfully built pytesseract\n",
      "Installing collected packages: pytesseract\n",
      "Successfully installed pytesseract-0.3.5\n",
      "Note: you may need to restart the kernel to use updated packages.\n"
     ]
    }
   ],
   "source": [
    "pip install pytesseract"
   ]
  },
  {
   "cell_type": "code",
   "execution_count": 5,
   "metadata": {},
   "outputs": [
    {
     "name": "stdout",
     "output_type": "stream",
     "text": [
      " \n",
      "\n",
      " \n",
      "\n",
      "“Don’t judge me\n",
      "by my past. |\n",
      "don’t live there\n",
      "anymore!”\n",
      "\n",
      " \n",
      "\f",
      "\n"
     ]
    }
   ],
   "source": [
    "import pytesseract\n",
    "pytesseract.pytesseract.tesseract_cmd = r'C:\\Program Files\\Tesseract-OCR\\tesseract'\n",
    "print(pytesseract.image_to_string(r'C:\\Users\\hp\\Desktop\\PythonDS\\Projects\\Inspirational.png'))"
   ]
  },
  {
   "cell_type": "code",
   "execution_count": null,
   "metadata": {},
   "outputs": [],
   "source": []
  }
 ],
 "metadata": {
  "kernelspec": {
   "display_name": "Python 3",
   "language": "python",
   "name": "python3"
  },
  "language_info": {
   "codemirror_mode": {
    "name": "ipython",
    "version": 3
   },
   "file_extension": ".py",
   "mimetype": "text/x-python",
   "name": "python",
   "nbconvert_exporter": "python",
   "pygments_lexer": "ipython3",
   "version": "3.7.4"
  }
 },
 "nbformat": 4,
 "nbformat_minor": 2
}
